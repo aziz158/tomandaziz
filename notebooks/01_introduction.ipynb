{
 "cells": [
  {
   "cell_type": "markdown",
   "id": "d4e88f96",
   "metadata": {},
   "source": [
    "# Spotify EDA\n",
    "#### Abstract\n",
    "This Jupyter Notebook contains an exploratory data analysis of a random subset of songs using variables from the Spotify API.\n",
    "\n",
    "#### Data\n",
    "\n",
    "There were two stages of data collection:\n",
    "- **Collecting Random Songs**: We developed a scraper to scrape a dictionary of 500 randomly generated songs from https://random-song.com/. The dictionary is of format {artist_name : song_name}.\n",
    "- **Collecting Spotify Songs**: We passed the dictionary's items to the Spotify API, and were able to extract variables neccessary for a ML model.\n",
    "\n",
    "#### Cleaning\n",
    "\n",
    "\n",
    "#### Initial Issues\n",
    "Originally, as seen in Final.py, we scraped the 500 songs from Rolling Stone's Top 500 Songs of All Time list. Afterwords, we realized that the outcome variable of our ML model is popularity -- having a dataset solely containing popular songs would make the model less accurate. We decided to go with the random sampling approach outlined in the data section above."
   ]
  },
  {
   "cell_type": "code",
   "execution_count": null,
   "id": "f0690fed",
   "metadata": {},
   "outputs": [],
   "source": []
  }
 ],
 "metadata": {
  "kernelspec": {
   "display_name": "Python 3 (ipykernel)",
   "language": "python",
   "name": "python3"
  },
  "language_info": {
   "codemirror_mode": {
    "name": "ipython",
    "version": 3
   },
   "file_extension": ".py",
   "mimetype": "text/x-python",
   "name": "python",
   "nbconvert_exporter": "python",
   "pygments_lexer": "ipython3",
   "version": "3.11.5"
  }
 },
 "nbformat": 4,
 "nbformat_minor": 5
}
