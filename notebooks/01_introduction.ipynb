{
 "cells": [
  {
   "cell_type": "markdown",
   "id": "d4e88f96",
   "metadata": {},
   "source": [
    "# Spotify API: EDA and ML - What Variables are Associated with Song Popularity\n",
    "## Abstract\n",
    "These collections of Jupyter Notebooks set out to answer the research question: \"What variables are associated with song popularity?\"\n",
    "\n",
    "## Notebooks\n",
    "- **01_introduction.ipynb**: Introduction to the project.\n",
    "- **02_scraping_random_samp.ipynb**: Scrapes 1000 random songs form random-song.com using Selenium and Beautiful Soup.\n",
    "- **03_spotify_api.ipynb**: Uses the Spotify API to develop a databse containing the random sample of 1000 songs and their variables.\n",
    "- **04_eda_.iptnb**: An exploratory data analysis conducted on the song database.\n",
    "\n",
    "## Data\n",
    "There were two stages of data collection:\n",
    "- **Collecting Random Songs**: In 02_scraiping_random_samp.ipynb, 1000 songs were scraped from random-song.com.\n",
    "- **Collecting Spotify Songs**: The songs were passed to the Spotify API, which provided the variables necessary for an ML model.\n",
    "\n",
    "## Cleaning\n",
    "- **Missing Values**: There were missing values in rand_samp, which were cleaned.\n",
    "- **Normalization**: Variables were normalized for the K-means Clustering.\n",
    "- **General Cleaning**: General cleaning was necessary to use the scraped data.\n",
    "\n",
    "## Initial Issues\n",
    "Originally, as seen in Final.py, 500 songs were scraped from Rolling Stone's Top 500 Songs of All Time list. Afterwords, it became clear that the outcome variable of the intended ML algorithm is popularity -- having a dataset solely containing popular songs would make the model less accurate. The scraping approach above was adopted instead."
   ]
  }
 ],
 "metadata": {
  "kernelspec": {
   "display_name": "Python 3 (ipykernel)",
   "language": "python",
   "name": "python3"
  },
  "language_info": {
   "codemirror_mode": {
    "name": "ipython",
    "version": 3
   },
   "file_extension": ".py",
   "mimetype": "text/x-python",
   "name": "python",
   "nbconvert_exporter": "python",
   "pygments_lexer": "ipython3",
   "version": "3.11.5"
  }
 },
 "nbformat": 4,
 "nbformat_minor": 5
}
